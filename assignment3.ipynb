{
 "cells": [
  {
   "cell_type": "code",
   "execution_count": 7,
   "metadata": {},
   "outputs": [],
   "source": [
    "class Calc:\n",
    "    def add(self,a,b):\n",
    "        self.a=a\n",
    "        self.b=b\n",
    "        return self.a+self.b\n",
    "    def sub(self,a,b):\n",
    "        self.a=a\n",
    "        self.b=b\n",
    "        if self.a>self.b:\n",
    "            return self.a-self.b\n",
    "        else:\n",
    "            return self.b-self.a\n",
    "    def mul(self,a,b):\n",
    "        self.a=a\n",
    "        self.b=b\n",
    "        return self.a*self.b\n",
    "    def div(self,a,b):\n",
    "        self.a=a\n",
    "        self.b=b\n",
    "        return self.a/self.b\n",
    "    "
   ]
  },
  {
   "cell_type": "code",
   "execution_count": 10,
   "metadata": {},
   "outputs": [
    {
     "name": "stdout",
     "output_type": "stream",
     "text": [
      "Enter 1st nos: 3\n",
      "Enter 2nd nos: 4\n",
      "7\n",
      "1\n",
      "12\n",
      "0.75\n"
     ]
    }
   ],
   "source": [
    "a=eval(input(\"Enter 1st nos: \"))\n",
    "b=eval(input(\"Enter 2nd nos: \"))\n",
    "c=Calc()\n",
    "print(c.add(a,b))\n",
    "print(c.sub(a,b))\n",
    "print(c.mul(a,b))\n",
    "print(c.div(a,b))"
   ]
  },
  {
   "cell_type": "code",
   "execution_count": 18,
   "metadata": {},
   "outputs": [],
   "source": [
    "class Polygon:\n",
    "    def __init__(self,n):\n",
    "        self.n=n\n",
    "        self.sides=[0 for i in range(n)]\n",
    "    def inSides(self):\n",
    "        self.sides=[eval(input(\"Enter the sides\"+str(i+1)+\": \"))for i in range(self.n)]\n",
    "    def disSides(self):\n",
    "        for i in range(self.n):\n",
    "            print(\"side \",i+1,\"is \",self.sides[i])"
   ]
  },
  {
   "cell_type": "code",
   "execution_count": 36,
   "metadata": {},
   "outputs": [],
   "source": [
    "class Triangle(Polygon):\n",
    "    def __init__(self):\n",
    "        Polygon.__init__(self,3)\n",
    "    def findArea(self):\n",
    "        a,b,c=self.sides\n",
    "        s=a+b+c/2\n",
    "        area=(s*(s-a)*(s-b)*(s-c))**0.5\n",
    "        print('%0.2f' %area)"
   ]
  },
  {
   "cell_type": "code",
   "execution_count": 37,
   "metadata": {},
   "outputs": [
    {
     "name": "stdout",
     "output_type": "stream",
     "text": [
      "Enter the sides1: 3\n",
      "Enter the sides2: 4\n",
      "Enter the sides3: 5\n"
     ]
    }
   ],
   "source": [
    "t = Triangle()\n",
    "\n",
    "t.inSides()"
   ]
  },
  {
   "cell_type": "code",
   "execution_count": 38,
   "metadata": {},
   "outputs": [
    {
     "name": "stdout",
     "output_type": "stream",
     "text": [
      "side  1 is  3\n",
      "side  2 is  4\n",
      "side  3 is  5\n"
     ]
    }
   ],
   "source": [
    "t.disSides()"
   ]
  },
  {
   "cell_type": "code",
   "execution_count": 39,
   "metadata": {},
   "outputs": [
    {
     "name": "stdout",
     "output_type": "stream",
     "text": [
      "39.09\n"
     ]
    }
   ],
   "source": [
    "t.findArea()"
   ]
  },
  {
   "cell_type": "code",
   "execution_count": 40,
   "metadata": {},
   "outputs": [
    {
     "name": "stdout",
     "output_type": "stream",
     "text": [
      "Enter the string: aabb\n",
      "bbaa\n"
     ]
    }
   ],
   "source": [
    "#reverse the string\n",
    "st=input(\"Enter the string: \")\n",
    "print(st[::-1])"
   ]
  },
  {
   "cell_type": "code",
   "execution_count": 44,
   "metadata": {},
   "outputs": [],
   "source": [
    "def change_char(str1):\n",
    "  char = str1[0]\n",
    "  str1 = str1.replace(char, '$')\n",
    "  str1 = char + str1[1:]\n",
    "\n",
    "  return str1"
   ]
  },
  {
   "cell_type": "code",
   "execution_count": 45,
   "metadata": {},
   "outputs": [
    {
     "name": "stdout",
     "output_type": "stream",
     "text": [
      "Enter the string: restart\n"
     ]
    },
    {
     "data": {
      "text/plain": [
       "'resta$t'"
      ]
     },
     "execution_count": 45,
     "metadata": {},
     "output_type": "execute_result"
    }
   ],
   "source": [
    "w=input(\"Enter the string: \")\n",
    "change_char(w)"
   ]
  },
  {
   "cell_type": "code",
   "execution_count": 46,
   "metadata": {},
   "outputs": [],
   "source": [
    "#remove nth index of string\n",
    "def modify(string,n):\n",
    "    first=string[:n]\n",
    "    last=string[n+1:]\n",
    "    return first+last\n"
   ]
  },
  {
   "cell_type": "code",
   "execution_count": 47,
   "metadata": {},
   "outputs": [
    {
     "name": "stdout",
     "output_type": "stream",
     "text": [
      "Enter the string: Checking\n",
      "enter the index no you want to remove: 4\n",
      "Modified String:  Checing\n"
     ]
    }
   ],
   "source": [
    "st=input(\"Enter the string: \")\n",
    "x=eval(input(\"enter the index no you want to remove: \"))\n",
    "print(\"Modified String: \",modify(st,x))"
   ]
  },
  {
   "cell_type": "code",
   "execution_count": null,
   "metadata": {},
   "outputs": [],
   "source": []
  }
 ],
 "metadata": {
  "kernelspec": {
   "display_name": "Python 3",
   "language": "python",
   "name": "python3"
  },
  "language_info": {
   "codemirror_mode": {
    "name": "ipython",
    "version": 3
   },
   "file_extension": ".py",
   "mimetype": "text/x-python",
   "name": "python",
   "nbconvert_exporter": "python",
   "pygments_lexer": "ipython3",
   "version": "3.7.3"
  }
 },
 "nbformat": 4,
 "nbformat_minor": 4
}
