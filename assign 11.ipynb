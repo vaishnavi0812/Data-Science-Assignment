{
 "cells": [
  {
   "cell_type": "code",
   "execution_count": 5,
   "metadata": {},
   "outputs": [
    {
     "name": "stdout",
     "output_type": "stream",
     "text": [
      "Connected to MySQL database\n"
     ]
    }
   ],
   "source": [
    "import mysql.connector\n",
    "from mysql.connector import Error\n",
    "conn=None\n",
    "try:\n",
    "    conn= mysql.connector.connect(host='localhost',database='mydb',\n",
    "                                  user='root',password='root123',\n",
    "                                  auth_plugin='mysql_native_password')\n",
    "    if conn.is_connected():\n",
    "        print('Connected to MySQL database')\n",
    "        \n",
    "    std=[(1,'abc','cs',50000),(2,'ansh','cs',10000),(3,'anshi','it',34000),(4,'anshik','it','89000'),(5,'def','mech',34000),(6,'fgh','cs',100000),(7,'preeti','it',89000),(8,'mno','cs',100000),(9,'rahul','cs',23000),(10,'makjih','civil',7788)]\n",
    "    query=\"INSERT INTO EMPLOYEE VALUES(%s,%s,%s,%s)\"\n",
    "    cursor=conn.cursor()\n",
    "    cursor.executemany(query,std)\n",
    "    conn.commit()\n",
    "    \n",
    "\n",
    "except Error as e:\n",
    "    print(e)\n",
    "    \n",
    "finally:\n",
    "    if conn is not None and conn.is_connected():\n",
    "        conn.close()"
   ]
  },
  {
   "cell_type": "code",
   "execution_count": 6,
   "metadata": {},
   "outputs": [
    {
     "name": "stdout",
     "output_type": "stream",
     "text": [
      "Connected to MySQL database\n",
      "No. of rows are: 10\n",
      "(1, 'abc', 'cs', 50000)\n",
      "(2, 'ansh', 'cs', 10000)\n",
      "(3, 'anshi', 'it', 34000)\n",
      "(4, 'anshik', 'it', 89000)\n",
      "(5, 'def', 'mech', 34000)\n",
      "(6, 'fgh', 'cs', 100000)\n",
      "(7, 'preeti', 'it', 89000)\n",
      "(8, 'mno', 'cs', 100000)\n",
      "(9, 'rahul', 'cs', 23000)\n",
      "(10, 'makjih', 'civil', 7788)\n"
     ]
    }
   ],
   "source": [
    "import mysql.connector\n",
    "from mysql.connector import Error\n",
    "conn=None\n",
    "try:\n",
    "    conn= mysql.connector.connect(host='localhost',database='mydb',\n",
    "                                  user='root',password='root123',\n",
    "                                  auth_plugin='mysql_native_password')\n",
    "    if conn.is_connected():\n",
    "        print('Connected to MySQL database')\n",
    "        \n",
    "    query=\"select * from employee;\"\n",
    "    cursor=conn.cursor()\n",
    "    cursor.execute(query)\n",
    "    rows=cursor.fetchall()\n",
    "    \n",
    "    print(\"No. of rows are:\",cursor.rowcount)\n",
    "    for row in rows:\n",
    "        print(row)\n",
    "    \n",
    "\n",
    "except Error as e:\n",
    "    print(e)\n",
    "    \n",
    "finally:\n",
    "    if conn is not None and conn.is_connected():\n",
    "        conn.close()"
   ]
  },
  {
   "cell_type": "code",
   "execution_count": 7,
   "metadata": {},
   "outputs": [
    {
     "name": "stdout",
     "output_type": "stream",
     "text": [
      "Connected to MySQL database\n",
      "[(1, 'abc', 'cs', 50000), (2, 'ansh', 'cs', 10000), (3, 'anshi', 'civil', 34000), (4, 'anshik', 'it', 89000), (5, 'def', 'mech', 34000), (6, 'fgh', 'cs', 100000), (7, 'preeti', 'it', 89000), (8, 'mno', 'cs', 100000), (9, 'rahul', 'cs', 23000), (10, 'makjih', 'civil', 7788)]\n"
     ]
    }
   ],
   "source": [
    "import mysql.connector\n",
    "from mysql.connector import Error\n",
    "conn = None\n",
    "try:\n",
    "        conn = mysql.connector.connect(host='localhost',\n",
    "                                       database='mydb',\n",
    "                                       user='root',\n",
    "                                       password='root123',\n",
    "                                      auth_plugin='mysql_native_password')\n",
    "        if conn.is_connected():\n",
    "            print('Connected to MySQL database')\n",
    "        query = \"update employee set emp_dept='civil' where emp_id=3\"\n",
    "        cursor = conn.cursor()\n",
    "        cursor.execute(query)\n",
    "        conn.commit()\n",
    "        \n",
    "        query=\"select * from employee\"\n",
    "        cursor.execute(query)\n",
    "        print(cursor.fetchall())\n",
    "        \n",
    "except Error as e:\n",
    "        print(e)\n",
    "finally:\n",
    "    if conn is not None and conn.is_connected():\n",
    "        conn.close()"
   ]
  },
  {
   "cell_type": "code",
   "execution_count": 8,
   "metadata": {},
   "outputs": [
    {
     "name": "stdout",
     "output_type": "stream",
     "text": [
      "Connected to MySQL database\n",
      "[(1, 'abc', 'cs', 50000), (2, 'ansh', 'cs', 10000), (4, 'anshik', 'it', 89000), (5, 'def', 'mech', 34000), (6, 'fgh', 'cs', 100000), (7, 'preeti', 'it', 89000), (8, 'mno', 'cs', 100000), (9, 'rahul', 'cs', 23000), (10, 'makjih', 'civil', 7788)]\n"
     ]
    }
   ],
   "source": [
    "import mysql.connector\n",
    "from mysql.connector import Error\n",
    "conn = None\n",
    "try:\n",
    "        conn = mysql.connector.connect(host='localhost',\n",
    "                                       database='mydb',\n",
    "                                       user='root',\n",
    "                                       password='root123',\n",
    "                                      auth_plugin='mysql_native_password')\n",
    "        if conn.is_connected():\n",
    "            print('Connected to MySQL database')\n",
    "        query = \"delete from employee where emp_id=3\"\n",
    "        cursor = conn.cursor()\n",
    "        cursor.execute(query)\n",
    "        conn.commit()\n",
    "        \n",
    "        query=\"select * from employee\"\n",
    "        cursor.execute(query)\n",
    "        print(cursor.fetchall())\n",
    "        \n",
    "except Error as e:\n",
    "        print(e)\n",
    "finally:\n",
    "    if conn is not None and conn.is_connected():\n",
    "        conn.close()"
   ]
  },
  {
   "cell_type": "code",
   "execution_count": 9,
   "metadata": {},
   "outputs": [
    {
     "name": "stdout",
     "output_type": "stream",
     "text": [
      "Connected to MySQL database\n",
      "No. of rows are: 5\n",
      "(1, 'abc', 'cs', 50000)\n",
      "(2, 'ansh', 'cs', 10000)\n",
      "(4, 'anshik', 'it', 89000)\n",
      "(5, 'def', 'mech', 34000)\n",
      "(6, 'fgh', 'cs', 100000)\n"
     ]
    }
   ],
   "source": [
    "import mysql.connector\n",
    "from mysql.connector import Error\n",
    "conn=None\n",
    "try:\n",
    "    conn= mysql.connector.connect(host='localhost',database='mydb',\n",
    "                                  user='root',password='root123',\n",
    "                                  auth_plugin='mysql_native_password')\n",
    "    if conn.is_connected():\n",
    "        print('Connected to MySQL database')\n",
    "        \n",
    "    query=\"select * from employee;\"\n",
    "    cursor=conn.cursor()\n",
    "    cursor.execute(query)\n",
    "    rows=cursor.fetchmany(5)\n",
    "    \n",
    "    print(\"No. of rows are:\",cursor.rowcount)\n",
    "    for row in rows:\n",
    "        print(row)\n",
    "    \n",
    "\n",
    "except Error as e:\n",
    "    print(e)\n",
    "    \n",
    "finally:\n",
    "    if conn is not None and conn.is_connected():\n",
    "        conn.close()"
   ]
  },
  {
   "cell_type": "code",
   "execution_count": 10,
   "metadata": {},
   "outputs": [
    {
     "name": "stdout",
     "output_type": "stream",
     "text": [
      "Connected to MySQL database\n",
      "(6, 'fgh', 'cs', 100000)\n"
     ]
    }
   ],
   "source": [
    "import mysql.connector\n",
    "from mysql.connector import Error\n",
    "conn=None\n",
    "try:\n",
    "    conn= mysql.connector.connect(host='localhost',database='mydb',\n",
    "                                  user='root',password='root123',\n",
    "                                  auth_plugin='mysql_native_password')\n",
    "    if conn.is_connected():\n",
    "        print('Connected to MySQL database')\n",
    "        \n",
    "    query=\"select * from employee;\"\n",
    "    cursor=conn.cursor()\n",
    "    cursor.execute(query)\n",
    "    rows=cursor.fetchone()\n",
    "    print(row)\n",
    "    \n",
    "\n",
    "except Error as e:\n",
    "    print(e)\n",
    "    \n",
    "finally:\n",
    "    if conn is not None and conn.is_connected():\n",
    "        conn.close()"
   ]
  },
  {
   "cell_type": "code",
   "execution_count": null,
   "metadata": {
    "collapsed": true
   },
   "outputs": [],
   "source": []
  }
 ],
 "metadata": {
  "anaconda-cloud": {},
  "kernelspec": {
   "display_name": "Python 3",
   "language": "python",
   "name": "python3"
  },
  "language_info": {
   "codemirror_mode": {
    "name": "ipython",
    "version": 3
   },
   "file_extension": ".py",
   "mimetype": "text/x-python",
   "name": "python",
   "nbconvert_exporter": "python",
   "pygments_lexer": "ipython3",
   "version": "3.8.5"
  }
 },
 "nbformat": 4,
 "nbformat_minor": 1
}
