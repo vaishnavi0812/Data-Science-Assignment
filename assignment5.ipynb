{
 "cells": [
  {
   "cell_type": "code",
   "execution_count": 1,
   "metadata": {},
   "outputs": [
    {
     "name": "stdout",
     "output_type": "stream",
     "text": [
      "8.428571428571429\n"
     ]
    }
   ],
   "source": [
    "import numpy as np\n",
    "arr=np.array([4,6,7,2,9,11,20])\n",
    "print(np.mean(arr))"
   ]
  },
  {
   "cell_type": "code",
   "execution_count": 2,
   "metadata": {},
   "outputs": [
    {
     "name": "stdout",
     "output_type": "stream",
     "text": [
      "5.473498303048005\n"
     ]
    }
   ],
   "source": [
    "print(np.std(arr))"
   ]
  },
  {
   "cell_type": "code",
   "execution_count": 7,
   "metadata": {},
   "outputs": [
    {
     "name": "stdout",
     "output_type": "stream",
     "text": [
      "False\n"
     ]
    }
   ],
   "source": [
    "ary=np.array([2,4,56,78,90,0])\n",
    "print(np.all(ary))"
   ]
  },
  {
   "cell_type": "code",
   "execution_count": 4,
   "metadata": {},
   "outputs": [
    {
     "name": "stdout",
     "output_type": "stream",
     "text": [
      "True\n"
     ]
    }
   ],
   "source": [
    "ar1=np.array([2,4,35,67,89,10])\n",
    "print(np.all(ar1))"
   ]
  },
  {
   "cell_type": "code",
   "execution_count": 12,
   "metadata": {},
   "outputs": [],
   "source": [
    "ar1=np.random.random((3,3,3))"
   ]
  },
  {
   "cell_type": "code",
   "execution_count": 13,
   "metadata": {},
   "outputs": [
    {
     "data": {
      "text/plain": [
       "array([[[0.17204752, 0.05364912, 0.71957343],\n",
       "        [0.40209883, 0.43196902, 0.06645334],\n",
       "        [0.04927829, 0.3881779 , 0.49521693]],\n",
       "\n",
       "       [[0.16241411, 0.57012466, 0.17779389],\n",
       "        [0.51523632, 0.97574536, 0.17799043],\n",
       "        [0.57840606, 0.92420916, 0.03283812]],\n",
       "\n",
       "       [[0.81141965, 0.23017325, 0.93572758],\n",
       "        [0.13968794, 0.86782795, 0.20070624],\n",
       "        [0.21972023, 0.85194635, 0.57010203]]])"
      ]
     },
     "execution_count": 13,
     "metadata": {},
     "output_type": "execute_result"
    }
   ],
   "source": [
    "ar1"
   ]
  },
  {
   "cell_type": "code",
   "execution_count": 15,
   "metadata": {},
   "outputs": [
    {
     "name": "stdout",
     "output_type": "stream",
     "text": [
      "[[ 9.7  0.5]\n",
      " [ 0.5 10. ]]\n"
     ]
    }
   ],
   "source": [
    "a1=np.array([4,5,2,1,9])\n",
    "a2=np.array([6,8,0,7,4])\n",
    "print(np.cov(a1,a2))"
   ]
  },
  {
   "cell_type": "code",
   "execution_count": 17,
   "metadata": {},
   "outputs": [
    {
     "name": "stdout",
     "output_type": "stream",
     "text": [
      "[20.   10.   57.25 70.65]\n"
     ]
    }
   ],
   "source": [
    "arry=np.array([20,-10,-57.25,70.65])\n",
    "print(np.absolute(arry))"
   ]
  },
  {
   "cell_type": "code",
   "execution_count": null,
   "metadata": {},
   "outputs": [],
   "source": []
  }
 ],
 "metadata": {
  "kernelspec": {
   "display_name": "Python 3",
   "language": "python",
   "name": "python3"
  },
  "language_info": {
   "codemirror_mode": {
    "name": "ipython",
    "version": 3
   },
   "file_extension": ".py",
   "mimetype": "text/x-python",
   "name": "python",
   "nbconvert_exporter": "python",
   "pygments_lexer": "ipython3",
   "version": "3.7.3"
  }
 },
 "nbformat": 4,
 "nbformat_minor": 4
}
