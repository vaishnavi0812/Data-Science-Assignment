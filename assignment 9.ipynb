{
 "cells": [
  {
   "cell_type": "code",
   "execution_count": 1,
   "metadata": {},
   "outputs": [],
   "source": [
    "import numpy as np\n",
    "import pandas as pd\n",
    "import datetime as date\n",
    "from sklearn.preprocessing import LabelEncoder"
   ]
  },
  {
   "cell_type": "code",
   "execution_count": 2,
   "metadata": {},
   "outputs": [],
   "source": [
    "x=pd.read_csv(r\"E:\\industrial training SVVV\\datasets/weatherHistory.csv\")"
   ]
  },
  {
   "cell_type": "code",
   "execution_count": 3,
   "metadata": {},
   "outputs": [
    {
     "name": "stdout",
     "output_type": "stream",
     "text": [
      "<class 'pandas.core.frame.DataFrame'>\n",
      "RangeIndex: 96453 entries, 0 to 96452\n",
      "Data columns (total 12 columns):\n",
      " #   Column                    Non-Null Count  Dtype  \n",
      "---  ------                    --------------  -----  \n",
      " 0   Formatted Date            96453 non-null  object \n",
      " 1   Summary                   96453 non-null  object \n",
      " 2   Precip Type               95936 non-null  object \n",
      " 3   Temperature (C)           96453 non-null  float64\n",
      " 4   Apparent Temperature (C)  96453 non-null  float64\n",
      " 5   Humidity                  96453 non-null  float64\n",
      " 6   Wind Speed (km/h)         96453 non-null  float64\n",
      " 7   Wind Bearing (degrees)    96453 non-null  int64  \n",
      " 8   Visibility (km)           96453 non-null  float64\n",
      " 9   Loud Cover                96453 non-null  int64  \n",
      " 10  Pressure (millibars)      96453 non-null  float64\n",
      " 11  Daily Summary             96453 non-null  object \n",
      "dtypes: float64(6), int64(2), object(4)\n",
      "memory usage: 8.8+ MB\n",
      "None\n"
     ]
    }
   ],
   "source": [
    "print(x.info())\n",
    "x[\"new_dates\"]=pd.to_datetime(x[\"Formatted Date\"])"
   ]
  },
  {
   "cell_type": "code",
   "execution_count": 4,
   "metadata": {},
   "outputs": [
    {
     "name": "stdout",
     "output_type": "stream",
     "text": [
      "0    2006-04-01 00:00:00.000 +0200\n",
      "1    2006-04-01 01:00:00.000 +0200\n",
      "2    2006-04-01 02:00:00.000 +0200\n",
      "3    2006-04-01 03:00:00.000 +0200\n",
      "4    2006-04-01 04:00:00.000 +0200\n",
      "Name: Formatted Date, dtype: object\n"
     ]
    }
   ],
   "source": [
    "print(x[\"Formatted Date\"].head())"
   ]
  },
  {
   "cell_type": "code",
   "execution_count": 5,
   "metadata": {},
   "outputs": [],
   "source": [
    "x[\"Formatted Date\"]=x[\"Formatted Date\"].str.split().map(lambda x:x[0])"
   ]
  },
  {
   "cell_type": "code",
   "execution_count": 6,
   "metadata": {},
   "outputs": [],
   "source": [
    "x[\"new_dates\"]=pd.to_datetime(x[\"Formatted Date\"])\n"
   ]
  },
  {
   "cell_type": "code",
   "execution_count": 7,
   "metadata": {},
   "outputs": [],
   "source": [
    "x[\"year\"]=x[\"new_dates\"].dt.year\n",
    "x[\"month\"]=x[\"new_dates\"].dt.month\n",
    "x[\"day\"]=x[\"new_dates\"].dt.day"
   ]
  },
  {
   "cell_type": "code",
   "execution_count": 8,
   "metadata": {},
   "outputs": [],
   "source": [
    "le=LabelEncoder()\n",
    "\n",
    "x[\"new_summary\"]=le.fit_transform(x[\"Summary\"])"
   ]
  },
  {
   "cell_type": "code",
   "execution_count": 12,
   "metadata": {},
   "outputs": [
    {
     "name": "stdout",
     "output_type": "stream",
     "text": [
      "11.93267843751985 12.0 0    7.222222\n",
      "dtype: float64\n"
     ]
    }
   ],
   "source": [
    "print(x[\"Temperature (C)\"].mean(),x[\"Temperature (C)\"].median(),x[\"Temperature (C)\"].mode())"
   ]
  },
  {
   "cell_type": "code",
   "execution_count": 13,
   "metadata": {},
   "outputs": [],
   "source": [
    "x.drop(x.index[20:41:10],inplace=True)\n",
    "\n",
    "x.drop(\"Precip Type\",axis=1,inplace=True)"
   ]
  },
  {
   "cell_type": "code",
   "execution_count": 14,
   "metadata": {},
   "outputs": [
    {
     "name": "stdout",
     "output_type": "stream",
     "text": [
      "<class 'pandas.core.frame.DataFrame'>\n",
      "Int64Index: 96450 entries, 0 to 96452\n",
      "Data columns (total 16 columns):\n",
      " #   Column                    Non-Null Count  Dtype         \n",
      "---  ------                    --------------  -----         \n",
      " 0   Formatted Date            96450 non-null  object        \n",
      " 1   Summary                   96450 non-null  object        \n",
      " 2   Temperature (C)           96450 non-null  float64       \n",
      " 3   Apparent Temperature (C)  96450 non-null  float64       \n",
      " 4   Humidity                  96450 non-null  float64       \n",
      " 5   Wind Speed (km/h)         96450 non-null  float64       \n",
      " 6   Wind Bearing (degrees)    96450 non-null  int64         \n",
      " 7   Visibility (km)           96450 non-null  float64       \n",
      " 8   Loud Cover                96450 non-null  int64         \n",
      " 9   Pressure (millibars)      96450 non-null  float64       \n",
      " 10  Daily Summary             96450 non-null  object        \n",
      " 11  new_dates                 96450 non-null  datetime64[ns]\n",
      " 12  year                      96450 non-null  int64         \n",
      " 13  month                     96450 non-null  int64         \n",
      " 14  day                       96450 non-null  int64         \n",
      " 15  new_summary               96450 non-null  int32         \n",
      "dtypes: datetime64[ns](1), float64(6), int32(1), int64(5), object(3)\n",
      "memory usage: 12.1+ MB\n",
      "None\n"
     ]
    }
   ],
   "source": [
    "print(x.info())"
   ]
  },
  {
   "cell_type": "code",
   "execution_count": null,
   "metadata": {},
   "outputs": [],
   "source": []
  }
 ],
 "metadata": {
  "kernelspec": {
   "display_name": "Python 3",
   "language": "python",
   "name": "python3"
  },
  "language_info": {
   "codemirror_mode": {
    "name": "ipython",
    "version": 3
   },
   "file_extension": ".py",
   "mimetype": "text/x-python",
   "name": "python",
   "nbconvert_exporter": "python",
   "pygments_lexer": "ipython3",
   "version": "3.8.5"
  }
 },
 "nbformat": 4,
 "nbformat_minor": 4
}
